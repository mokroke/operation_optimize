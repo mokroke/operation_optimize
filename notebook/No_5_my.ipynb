{
 "cells": [
  {
   "cell_type": "code",
   "execution_count": 1,
   "metadata": {},
   "outputs": [],
   "source": [
    "import pandas as pd\n",
    "from sklearn import preprocessing\n",
    "import numpy as np\n",
    "import pickle\n",
    "\n",
    "import ipynb_path\n",
    "now_file_name = ipynb_path.get().split('/')[-1].replace('.ipynb','')\n",
    "\n",
    "input_path = '../input/'\n",
    "status_file_name = 'status.csv'\n",
    "station_file_name = 'station.csv'\n",
    "trip_file_name = 'trip.csv'\n",
    "weather_file_name = 'weather.csv'\n",
    "output_path = '../output/'\n",
    "model_path = '../model/'"
   ]
  },
  {
   "cell_type": "code",
   "execution_count": 1,
   "metadata": {},
   "outputs": [
    {
     "name": "stdin",
     "output_type": "stream",
     "text": [
      "初めの数字を入力してください 0\n",
      "終わりの数字を入力してください 20\n"
     ]
    }
   ],
   "source": [
    "# #実行したらコメントアウトする\n",
    "# #保存ファイルの重複が起こる可能性がある\n",
    "# ###########################################################\n",
    "# # もう一度notebookを動かす際はモデルリストのstart_numとend_numを\n",
    "# # 設定してください\n",
    "# ###########################################################\n",
    "# st_in = input('初めの数字を入力してください')\n",
    "# end_in = input('終わりの数字を入力してください')\n",
    "# start_num = int(st_in)\n",
    "# end_num = int(end_in)\n",
    "\n",
    "# model_name_list = [f'model_{i}_{now_file_name}.sav' for i in range(start_num, end_num)]\n",
    "# submit_file_name_list = [f'submission_{i}_{now_file_name}.csv' for i in range(start_num,end_num)]\n",
    "# model_submit_dict = dict(zip(model_name_list,submit_file_name_list))"
   ]
  },
  {
   "cell_type": "code",
   "execution_count": 5,
   "metadata": {},
   "outputs": [],
   "source": [
    "status = pd.read_csv(input_path + status_file_name)\n",
    "station = pd.read_csv(input_path + station_file_name)\n",
    "weather = pd.read_csv(input_path + weather_file_name)\n",
    "\n",
    "\n",
    "#statusのyear, month, dayを結合してdatetime型に\n",
    "status['date'] = status['year'].astype(str) + '/' + status['month'].astype(str).str.zfill(2).astype(str) + '/' + status['day'].astype(str).str.zfill(2).astype(str)\n",
    "status['date'] = pd.to_datetime(status['date'])\n",
    "\n",
    "weather['date'] = pd.to_datetime(weather['date'])\n",
    "\n",
    "train_sta_wea = pd.merge(status,weather, on = 'date', how ='left')\n",
    "\n",
    "train_sta_wea['events'] = train_sta_wea['events'].fillna('なし')\n",
    "\n",
    "le = preprocessing.LabelEncoder()\n",
    "train_sta_wea['events'] = le.fit_transform(train_sta_wea['events'].values.tolist())\n",
    "train_sta_wea = pd.merge(train_sta_wea, station[['station_id', 'city']], how = 'left')\n",
    "\n",
    "train_sta_wea_pre_1 = train_sta_wea[train_sta_wea['predict'] == 1]\n",
    "\n",
    "train_sta_wea_pre_0 = train_sta_wea[train_sta_wea['predict'] == 0]\n",
    "\n",
    "#曜日を追加\n",
    "train_sta_wea['date']=pd.to_datetime(train_sta_wea['date'])\n",
    "train_sta_wea['weekday']=train_sta_wea['date'].dt.weekday"
   ]
  },
  {
   "cell_type": "code",
   "execution_count": 4,
   "metadata": {},
   "outputs": [
    {
     "ename": "TypeError",
     "evalue": "__init__() missing 2 required positional arguments: 'df' and 'train_end_next_date'",
     "output_type": "error",
     "traceback": [
      "\u001b[0;31m---------------------------------------------------------------------------\u001b[0m",
      "\u001b[0;31mTypeError\u001b[0m                                 Traceback (most recent call last)",
      "\u001b[0;32m<ipython-input-4-6002520cf8b2>\u001b[0m in \u001b[0;36m<module>\u001b[0;34m\u001b[0m\n\u001b[0;32m----> 1\u001b[0;31m \u001b[0mt\u001b[0m \u001b[0;34m=\u001b[0m \u001b[0mmake_tr_va_te\u001b[0m\u001b[0;34m(\u001b[0m\u001b[0;34m)\u001b[0m\u001b[0;34m\u001b[0m\u001b[0;34m\u001b[0m\u001b[0m\n\u001b[0m",
      "\u001b[0;31mTypeError\u001b[0m: __init__() missing 2 required positional arguments: 'df' and 'train_end_next_date'"
     ]
    }
   ],
   "source": [
    "t = make_tr_va_te()"
   ]
  },
  {
   "cell_type": "code",
   "execution_count": 2,
   "metadata": {},
   "outputs": [],
   "source": [
    "#重回帰分析\n",
    "from datetime import date\n",
    "from datetime import datetime as dt\n",
    "from dateutil.relativedelta import relativedelta\n",
    "\n",
    "from sklearn.linear_model import LinearRegression\n",
    "from sklearn.metrics import mean_squared_error as mse\n",
    "\n",
    "class make_tr_va_te():\n",
    "    def __init__(self, df, train_end_next_date):\n",
    "        self.df = df\n",
    "        self.train_end_next_date = train_end_next_date\n",
    "        \n",
    "    def make_train_data(self):\n",
    "        train_all = self.df[self.df['predict'] == 0]\n",
    "        train = train_all[train_all['date'] < self.train_end_next_date]\n",
    "        train_notna = train[train['bikes_available'].notna()]\n",
    "        return train_notna\n",
    "        \n",
    "    def make_valid_data(self):\n",
    "        valid_all = self.df[self.df['predict'] == 0]\n",
    "        valid = valid_all[(self.train_end_next_date <= valid_all['date']) & (valid_all['date'] < (self.train_end_next_date + relativedelta(months = 1)))]\n",
    "        valid_notna = valid[valid['bikes_available'].notna()]\n",
    "        return valid_notna\n",
    "                                      \n",
    "    def make_test_data(self):\n",
    "        test_all = self.df[self.df['predict'] == 1]\n",
    "        test = test_all[((self.train_end_next_date + relativedelta(months = 1)) <= test_all['date']) & (test_all['date']< (self.train_end_next_date + relativedelta(months = 2)))]\n",
    "        return test\n",
    "    \n",
    "    def model_for_data(self, train, valid):      \n",
    "        tr_X = train.drop(['id','predict','bikes_available','city','date'],axis=1)\n",
    "        tr_y = train['bikes_available']\n",
    "        va_X = valid.drop(['id','predict','bikes_available','city','date'],axis=1)\n",
    "        va_y = valid['bikes_available']   \n",
    "        return tr_X, tr_y, va_X, va_y\n",
    "    \n",
    "    def predict_for_data(self, test):\n",
    "        te_X = test.drop(['id','predict','bikes_available','city','date'],axis=1)       \n",
    "        return te_X\n",
    "    \n",
    "    def make_fit_model(self, tr_X, tr_y, va_X, va_y ):\n",
    "        model = LinearRegression()\n",
    "        model.fit(tr_X, tr_y)\n",
    "        return model\n",
    "    \n",
    "    def model_and_valid_score(self):\n",
    "        model = self.make_fit_model()\n",
    "        valid_best_score = model.best_score['valid_1']['rmse']\n",
    "        \n",
    "        return model, valid_best_score\n",
    "    \n",
    "    def predict(self, model_file_name):\n",
    "        import pickle\n",
    "        train = self.make_train_data()\n",
    "        valid = self.make_valid_data()\n",
    "        test = self.make_test_data()\n",
    "        tr_X, tr_y, va_X, va_y = self.model_for_data(train, valid)\n",
    "        te_X = self.predict_for_data(test)\n",
    "        model   = self.make_fit_model(tr_X, tr_y, va_X, va_y )\n",
    "        pickle.dump(model, open(model_path + model_file_name, 'wb')) \n",
    "        va_pred = model.predict(va_X)\n",
    "        y_pred = model.predict(te_X)\n",
    "        rmse_score = np.sqrt(mse(va_y,va_pred))\n",
    "        sub_index = test['id']\n",
    "        sub_df = pd.DataFrame(list(zip(sub_index, y_pred)))\n",
    "        print('*****')\n",
    "        print(rmse_score)\n",
    "        return sub_df, rmse_score\n",
    "    \n",
    "\n",
    "\n"
   ]
  },
  {
   "cell_type": "code",
   "execution_count": 3,
   "metadata": {},
   "outputs": [],
   "source": [
    "def month_range(start, stop, step = relativedelta(months = 1)):\n",
    "    current = start\n",
    "    while current < stop:\n",
    "        yield current\n",
    "        current += step"
   ]
  },
  {
   "cell_type": "code",
   "execution_count": 7,
   "metadata": {},
   "outputs": [],
   "source": [
    "make_data = make_tr_va_te(train_sta_wea, dt(2014,8,1))\n",
    "train_notna = make_data.make_train_data()\n",
    "valid_notna = make_data.make_valid_data()\n",
    "test =make_data.make_test_data()\n",
    "tr_X, tr_y, va_X, va_y = make_data.model_for_data(train_notna, valid_notna)\n",
    "te_X = make_data.predict_for_data(test)"
   ]
  },
  {
   "cell_type": "code",
   "execution_count": 11,
   "metadata": {},
   "outputs": [],
   "source": [
    "tr_X_ar = tr_X.to_numpy()\n",
    "tr_y_ar = tr_y.to_numpy()\n",
    "va_X_ar = va_X.to_numpy()\n",
    "va_y_ar = va_y.to_numpy()\n",
    "te_X_ar = te_X.to_numpy()"
   ]
  },
  {
   "cell_type": "code",
   "execution_count": 12,
   "metadata": {},
   "outputs": [
    {
     "data": {
      "text/plain": [
       "(539515, 27)"
      ]
     },
     "execution_count": 12,
     "metadata": {},
     "output_type": "execute_result"
    }
   ],
   "source": [
    "tr_X.shape"
   ]
  },
  {
   "cell_type": "code",
   "execution_count": null,
   "metadata": {},
   "outputs": [],
   "source": []
  },
  {
   "cell_type": "code",
   "execution_count": null,
   "metadata": {},
   "outputs": [],
   "source": [
    "from datetime import date\n",
    "from datetime import datetime as dt\n",
    "from dateutil.relativedelta import relativedelta\n",
    "sub_df_all = pd.DataFrame()\n",
    "valid_score_list = []\n",
    "#train_end_next_dateにはvalidationの一ヶ月の初めを入れる\n",
    "for d in month_range(dt(2014,8,1), dt(2015,8,1)):\n",
    "    make_data = make_tr_va_te(train_sta_wea, d)\n",
    "    train_notna = make_data.make_train_data()\n",
    "    valid_notna = make_data.make_valid_data()\n",
    "    test =make_data.make_test_data()\n",
    "    tr_X, tr_y, va_X, va_y = make_data.model_for_data(train_notna, valid_notna)\n",
    "    te_X = make_data.predict_for_data(test)\n",
    "    model = make_data.make_fit_model(tr_X, tr_y, va_X, va_y)\n",
    "    model_name = model_name_list[0]\n",
    "    sub_df, valid_best_score = make_data.predict(model_name)\n",
    "    sub_df_all = pd.concat([sub_df_all, sub_df])\n",
    "    valid_score_list.append(valid_best_score)\n",
    "cv_score = sum(valid_score_list)/len(valid_score_list)\n",
    "print('***')\n",
    "print('***')\n",
    "print(f'CV score is {cv_score}')\n",
    "print(f'model_name is {model_name}')\n",
    "model_name_list.pop(0)"
   ]
  },
  {
   "cell_type": "code",
   "execution_count": null,
   "metadata": {},
   "outputs": [],
   "source": [
    "# submit_file_name = model_submit_dict[model_name]\n",
    "# sub_df_all.to_csv(output_path+submit_file_name, index=False, header=False)\n",
    "# print(submit_file_name)"
   ]
  },
  {
   "cell_type": "code",
   "execution_count": null,
   "metadata": {},
   "outputs": [],
   "source": []
  },
  {
   "cell_type": "code",
   "execution_count": null,
   "metadata": {},
   "outputs": [],
   "source": []
  },
  {
   "cell_type": "code",
   "execution_count": null,
   "metadata": {},
   "outputs": [],
   "source": []
  },
  {
   "cell_type": "code",
   "execution_count": null,
   "metadata": {},
   "outputs": [],
   "source": []
  }
 ],
 "metadata": {
  "kernelspec": {
   "display_name": "Python 3",
   "language": "python",
   "name": "python3"
  },
  "language_info": {
   "codemirror_mode": {
    "name": "ipython",
    "version": 3
   },
   "file_extension": ".py",
   "mimetype": "text/x-python",
   "name": "python",
   "nbconvert_exporter": "python",
   "pygments_lexer": "ipython3",
   "version": "3.8.5"
  }
 },
 "nbformat": 4,
 "nbformat_minor": 4
}
