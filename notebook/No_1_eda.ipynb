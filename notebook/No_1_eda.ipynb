{
 "cells": [
  {
   "cell_type": "code",
   "execution_count": 2,
   "metadata": {},
   "outputs": [],
   "source": [
    "import pandas as pd"
   ]
  },
  {
   "cell_type": "code",
   "execution_count": 5,
   "metadata": {},
   "outputs": [],
   "source": [
    "input_path = '../input/'\n",
    "status_file_name = 'status.csv'\n",
    "station_file_name = 'station.csv'\n",
    "trip_file_name = 'trip.csv'\n",
    "weather_file_name = 'weather.csv'"
   ]
  },
  {
   "cell_type": "code",
   "execution_count": 4,
   "metadata": {},
   "outputs": [],
   "source": [
    "#ファイルを読み込む関数\n",
    "def read_data(path, file_name):\n",
    "    df = pd.read_csv(path + file_name)\n",
    "    return df"
   ]
  },
  {
   "cell_type": "code",
   "execution_count": 6,
   "metadata": {},
   "outputs": [],
   "source": [
    "df_status = read_data(input_path, status_file_name)\n",
    "df_station = read_data(input_path, station_file_name)\n",
    "df_trip = read_data(input_path, trip_file_name)\n",
    "df_weather = read_data(input_path, weather_file_name)"
   ]
  },
  {
   "cell_type": "code",
   "execution_count": 16,
   "metadata": {},
   "outputs": [],
   "source": [
    "#ファイルの中身を見る関数\n",
    "def print_head_and_info(df):\n",
    "    print(df.head())\n",
    "    print(df.info())"
   ]
  },
  {
   "cell_type": "code",
   "execution_count": 17,
   "metadata": {},
   "outputs": [
    {
     "name": "stdout",
     "output_type": "stream",
     "text": [
      "   id  year  month  day  hour  station_id  bikes_available  predict\n",
      "0   0  2013      9    1     0           0             11.0        0\n",
      "1   1  2013      9    1     1           0             11.0        0\n",
      "2   2  2013      9    1     2           0             11.0        0\n",
      "3   3  2013      9    1     3           0             11.0        0\n",
      "4   4  2013      9    1     4           0             11.0        0\n",
      "<class 'pandas.core.frame.DataFrame'>\n",
      "RangeIndex: 1226400 entries, 0 to 1226399\n",
      "Data columns (total 8 columns):\n",
      " #   Column           Non-Null Count    Dtype  \n",
      "---  ------           --------------    -----  \n",
      " 0   id               1226400 non-null  int64  \n",
      " 1   year             1226400 non-null  int64  \n",
      " 2   month            1226400 non-null  int64  \n",
      " 3   day              1226400 non-null  int64  \n",
      " 4   hour             1226400 non-null  int64  \n",
      " 5   station_id       1226400 non-null  int64  \n",
      " 6   bikes_available  809995 non-null   float64\n",
      " 7   predict          1226400 non-null  int64  \n",
      "dtypes: float64(1), int64(7)\n",
      "memory usage: 74.9 MB\n",
      "None\n"
     ]
    }
   ],
   "source": [
    "print_head_and_info(df_status)"
   ]
  },
  {
   "cell_type": "code",
   "execution_count": 18,
   "metadata": {},
   "outputs": [
    {
     "name": "stdout",
     "output_type": "stream",
     "text": [
      "   station_id       lat       long  dock_count   city installation_date\n",
      "0           0  37.32973 -121.90178          27  city1          8/6/2013\n",
      "1           1  37.33070 -121.88898          15  city1          8/5/2013\n",
      "2           2  37.33399 -121.89490          11  city1          8/6/2013\n",
      "3           3  37.33141 -121.89320          19  city1          8/5/2013\n",
      "4           4  37.33672 -121.89407          15  city1          8/7/2013\n",
      "<class 'pandas.core.frame.DataFrame'>\n",
      "RangeIndex: 70 entries, 0 to 69\n",
      "Data columns (total 6 columns):\n",
      " #   Column             Non-Null Count  Dtype  \n",
      "---  ------             --------------  -----  \n",
      " 0   station_id         70 non-null     int64  \n",
      " 1   lat                70 non-null     float64\n",
      " 2   long               70 non-null     float64\n",
      " 3   dock_count         70 non-null     int64  \n",
      " 4   city               70 non-null     object \n",
      " 5   installation_date  70 non-null     object \n",
      "dtypes: float64(2), int64(2), object(2)\n",
      "memory usage: 3.4+ KB\n",
      "None\n"
     ]
    }
   ],
   "source": [
    "print_head_and_info(df_station)"
   ]
  },
  {
   "cell_type": "code",
   "execution_count": null,
   "metadata": {},
   "outputs": [],
   "source": []
  }
 ],
 "metadata": {
  "kernelspec": {
   "display_name": "Python 3",
   "language": "python",
   "name": "python3"
  },
  "language_info": {
   "codemirror_mode": {
    "name": "ipython",
    "version": 3
   },
   "file_extension": ".py",
   "mimetype": "text/x-python",
   "name": "python",
   "nbconvert_exporter": "python",
   "pygments_lexer": "ipython3",
   "version": "3.8.5"
  }
 },
 "nbformat": 4,
 "nbformat_minor": 4
}
